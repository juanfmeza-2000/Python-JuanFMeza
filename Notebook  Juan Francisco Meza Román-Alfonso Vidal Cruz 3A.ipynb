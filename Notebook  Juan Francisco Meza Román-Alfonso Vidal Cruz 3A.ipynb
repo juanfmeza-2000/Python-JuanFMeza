{
 "cells": [
  {
   "cell_type": "markdown",
   "metadata": {},
   "source": [
    "# Introduction to Python 3\n"
   ]
  },
  {
   "cell_type": "markdown",
   "metadata": {},
   "source": [
    "#### Made by: Alfonso Emanuel Vidal Cruz and Juan Francisco Meza Román\n"
   ]
  },
  {
   "cell_type": "markdown",
   "metadata": {},
   "source": [
    "##### How to print"
   ]
  },
  {
   "cell_type": "markdown",
   "metadata": {},
   "source": [
    "The simplest thing you can learn about python is print. What you have to do is introduce the following:\n",
    "print(\"Whatever you want to print\")\n"
   ]
  },
  {
   "cell_type": "code",
   "execution_count": 11,
   "metadata": {},
   "outputs": [
    {
     "name": "stdout",
     "output_type": "stream",
     "text": [
      "Here must be your text\n"
     ]
    }
   ],
   "source": [
    "print (\"Here must be your text\")"
   ]
  },
  {
   "cell_type": "markdown",
   "metadata": {},
   "source": [
    "And then, you are ready to print whatever you want."
   ]
  },
  {
   "cell_type": "markdown",
   "metadata": {},
   "source": [
    "###### Comments"
   ]
  },
  {
   "cell_type": "markdown",
   "metadata": {},
   "source": [
    "Now in the next exercise you have to include the symbol # to do comments to your code, this is not going to be visible in the console, just like the following lines"
   ]
  },
  {
   "cell_type": "code",
   "execution_count": 17,
   "metadata": {},
   "outputs": [
    {
     "name": "stdout",
     "output_type": "stream",
     "text": [
      "Hello\n"
     ]
    }
   ],
   "source": [
    "#Program\n",
    "print(\"Hello\")#This is not visible in the program\n"
   ]
  },
  {
   "cell_type": "markdown",
   "metadata": {},
   "source": [
    "##### Maths "
   ]
  },
  {
   "cell_type": "markdown",
   "metadata": {},
   "source": [
    "In Python you can also do many mathematical operations with the common symbols which are used, for example:\n",
    "addition (+),\n",
    "substraction (-),\n",
    "divison (/),\n",
    "multiplication (*),\n",
    "percent (%),\n",
    "less-than (<),\n",
    "greater-than (>),\n",
    "less-than-equal (<=),\n",
    "greater-than-equal(>=)."
   ]
  },
  {
   "cell_type": "code",
   "execution_count": 16,
   "metadata": {
    "scrolled": true
   },
   "outputs": [
    {
     "name": "stdout",
     "output_type": "stream",
     "text": [
      "The addition of 5+5 is: 10\n",
      "5 times 7 is: 35\n",
      "10 divided by 2 is: 5.0\n"
     ]
    }
   ],
   "source": [
    "#Here we have some basic examples\n",
    "print(\"The addition of 5+5 is:\",5+5)\n",
    "print(\"5 times 7 is:\",5*7)\n",
    "print(\"10 divided by 2 is:\",10/2)\n"
   ]
  },
  {
   "cell_type": "markdown",
   "metadata": {},
   "source": [
    "##### Variables and names"
   ]
  },
  {
   "cell_type": "markdown",
   "metadata": {},
   "source": [
    "The next step is how to declarate a variable, it is one of the easiest things that we can do, in order to do it, we just need to write the name of the variable, equal, the value of the variable. Check this out"
   ]
  },
  {
   "cell_type": "code",
   "execution_count": 21,
   "metadata": {},
   "outputs": [
    {
     "name": "stdout",
     "output_type": "stream",
     "text": [
      "I am 24 years old\n",
      "My favorite number is 8 because it is the same number even when it is up side\n"
     ]
    }
   ],
   "source": [
    "Age = 24\n",
    "Favorite_number = 8\n",
    "\n",
    "print(\"I am\", Age , \"years old\")\n",
    "print(\"My favorite number is\", Favorite_number, \"because it is the same number even when it is up side\")"
   ]
  },
  {
   "cell_type": "markdown",
   "metadata": {},
   "source": [
    "##### More variables and strings"
   ]
  },
  {
   "cell_type": "markdown",
   "metadata": {},
   "source": [
    "When we put something rounded by doble quotes (\"\") we are making a string. It is a really useful function and here we have how to make strings that have variables embedded in them. The only thing we have to do is to colocate an f before the doble quotes and call our variable between braces in the place we want it. Let's do an example."
   ]
  },
  {
   "cell_type": "code",
   "execution_count": 24,
   "metadata": {},
   "outputs": [
    {
     "name": "stdout",
     "output_type": "stream",
     "text": [
      "One of my favorite hobbies in life is to see houses.\n",
      "My favorite houses  are the blue ones with a big garden.\n"
     ]
    }
   ],
   "source": [
    "random_thing = 'houses'\n",
    "favorite_houses = 'blue'\n",
    "garden_size = 'big'\n",
    "\n",
    "print(f\"One of my favorite hobbies in life is to see {random_thing}.\")\n",
    "print(f\"My favorite houses  are the {favorite_houses} ones with a {garden_size} garden.\")\n"
   ]
  },
  {
   "cell_type": "markdown",
   "metadata": {},
   "source": [
    "##### Strings and Text "
   ]
  },
  {
   "cell_type": "markdown",
   "metadata": {},
   "source": [
    "In this exercise are used the strings to make similar exercises to the previous one, but now you can evaluate options with strings, and make a string bigger with an option to increase the string, that is making an addition of the two strings"
   ]
  },
  {
   "cell_type": "code",
   "execution_count": 5,
   "metadata": {},
   "outputs": [
    {
     "name": "stdout",
     "output_type": "stream",
     "text": [
      "Part 1 of the string ...following by the second part.\n",
      "Is this a chocolate ice cream?! False\n"
     ]
    }
   ],
   "source": [
    "a = \"Part 1 of the string ...\" \n",
    "b = \"following by the second part.\"\n",
    "print(a + b)\n",
    "icecream = False \n",
    "icecream_evaluation = \"Is this a chocolate ice cream?! {}\"\n",
    "print(icecream_evaluation.format(icecream))\n",
    "\n"
   ]
  },
  {
   "cell_type": "markdown",
   "metadata": {},
   "source": [
    "##### More Printing"
   ]
  },
  {
   "cell_type": "markdown",
   "metadata": {},
   "source": [
    "Now of this exercise, we continue putting strings and printing text, but now with uses of end that permits the user to gather characters in order to form a word"
   ]
  },
  {
   "cell_type": "code",
   "execution_count": 10,
   "metadata": {},
   "outputs": [
    {
     "name": "stdout",
     "output_type": "stream",
     "text": [
      "Word of 7 letters:\n",
      ".......\n",
      "Perfect\n"
     ]
    }
   ],
   "source": [
    "print (\"Word of 7 letters:\")\n",
    "print(\".\" * 7) # what'd that do?\n",
    "end1 =\"P\"\n",
    "end2 =\"e\" \n",
    "end3 =\"r\"  \n",
    "end4 =\"f\" \n",
    "end5 =\"e\"\n",
    "end6 =\"c\" \n",
    "end7 =\"t\" \n",
    "print(end1 + end2 + end3 + end4 + end5 + end6 + end7) "
   ]
  },
  {
   "cell_type": "markdown",
   "metadata": {},
   "source": [
    "##### Printing Printing"
   ]
  },
  {
   "cell_type": "markdown",
   "metadata": {},
   "source": [
    "For this exercise is used the command formatter.format to replace the string of the brace of the initial formatter that we put in the beginning of the code to identify how many strings we want to have"
   ]
  },
  {
   "cell_type": "code",
   "execution_count": 1,
   "metadata": {},
   "outputs": [
    {
     "name": "stdout",
     "output_type": "stream",
     "text": [
      "a b c \n",
      "Hello Goodbye {} {} {}  \n"
     ]
    }
   ],
   "source": [
    "formatter = \"{} {} {} \"\n",
    "print(formatter.format(\"a\", \"b\", \"c\")) \n",
    "print(formatter.format(\"Hello\", \"Goodbye\", formatter))"
   ]
  },
  {
   "cell_type": "markdown",
   "metadata": {},
   "source": [
    "##### Printing Printing Printing"
   ]
  },
  {
   "cell_type": "markdown",
   "metadata": {},
   "source": [
    "Now with this code we print data according to skipping one line with the command \\n and also with the use of the three double quotations you can write anything in 4, 5 or 6 lines"
   ]
  },
  {
   "cell_type": "code",
   "execution_count": 9,
   "metadata": {},
   "outputs": [
    {
     "name": "stdout",
     "output_type": "stream",
     "text": [
      "Names: Juan Raul Pedro Pablo José\n",
      "Scores 8\n",
      "9\n",
      "10\n",
      "7\n",
      "8\n",
      "Express any text in three lines \n",
      "or more \n",
      "with three\n",
      "double quotations\n",
      "\n"
     ]
    }
   ],
   "source": [
    "names=\"Juan Raul Pedro Pablo José\"\n",
    "scores=\"8\\n9\\n10\\n7\\n8\"\n",
    "print(\"Names:\", names)\n",
    "print(\"Scores\",scores)\n",
    "print(\"\"\"Express any text in three lines \n",
    "or more \n",
    "with three\n",
    "double quotations\n",
    "\"\"\")\n",
    "\n"
   ]
  },
  {
   "cell_type": "markdown",
   "metadata": {},
   "source": [
    "##### What was that?"
   ]
  },
  {
   "cell_type": "code",
   "execution_count": 6,
   "metadata": {},
   "outputs": [
    {
     "name": "stdout",
     "output_type": "stream",
     "text": [
      "\t Anything you want to write\n",
      "Another \n",
      "thing\n",
      "And \\ another \\ thing\n",
      "List of countries to visit: \n",
      "\t* United States\n",
      "\t* Spain \n",
      "\t* Italy\n",
      "\t* France\n",
      "\t* Germany\n"
     ]
    }
   ],
   "source": [
    "First_line = \"\\t Anything you want to write\"\n",
    "Second_line = \"Another \\nthing\"\n",
    "Third_line = \"And \\\\ another \\\\ thing\"\n",
    "\n",
    "travel= \"\"\"List of countries to visit: \n",
    "\\t* United States\n",
    "\\t* Spain \n",
    "\\t* Italy\n",
    "\\t* France\n",
    "\\t* Germany\"\"\"\n",
    "\n",
    "print(First_line)\n",
    "print(Second_line)\n",
    "print(Third_line)\n",
    "print(travel)"
   ]
  },
  {
   "cell_type": "markdown",
   "metadata": {},
   "source": [
    "The last exercise talks about scape sequences that are used in Python that are used in any situations,and also tells us about all the symbols for the scape sequences, just as write on slash, make a list or write in tab or in another line"
   ]
  },
  {
   "cell_type": "code",
   "execution_count": null,
   "metadata": {},
   "outputs": [],
   "source": []
  }
 ],
 "metadata": {
  "kernelspec": {
   "display_name": "Python 3",
   "language": "python",
   "name": "python3"
  },
  "language_info": {
   "codemirror_mode": {
    "name": "ipython",
    "version": 3
   },
   "file_extension": ".py",
   "mimetype": "text/x-python",
   "name": "python",
   "nbconvert_exporter": "python",
   "pygments_lexer": "ipython3",
   "version": "3.7.3"
  }
 },
 "nbformat": 4,
 "nbformat_minor": 2
}
