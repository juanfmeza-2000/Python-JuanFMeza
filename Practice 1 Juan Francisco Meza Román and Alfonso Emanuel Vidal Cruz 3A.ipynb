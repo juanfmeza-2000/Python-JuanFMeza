{
 "cells": [
  {
   "cell_type": "markdown",
   "metadata": {},
   "source": [
    "# Asking questions Explanation "
   ]
  },
  {
   "cell_type": "markdown",
   "metadata": {},
   "source": [
    "### Made by Juan Francisco Meza Román and Alfonso Emmanuel Vidal Cruz\n"
   ]
  },
  {
   "cell_type": "markdown",
   "metadata": {},
   "source": [
    "In this simple code, we just ask for the age of three different students, and then we calculate the sample mean of three ages. Now we are going to explain how to obtain a mean asking for the tree ages step by step on Python"
   ]
  },
  {
   "cell_type": "markdown",
   "metadata": {},
   "source": [
    "First we need to ask for the age of one student, so we use the command print to show in the screen the question"
   ]
  },
  {
   "cell_type": "code",
   "execution_count": 5,
   "metadata": {},
   "outputs": [
    {
     "name": "stdout",
     "output_type": "stream",
     "text": [
      "How old are you Student 1?\n"
     ]
    }
   ],
   "source": [
    "print (\"How old are you Student 1?\")"
   ]
  },
  {
   "cell_type": "markdown",
   "metadata": {},
   "source": [
    "We have to create a variable called age1 for example to introduce a variable, the commands are int to indicate that is an entire number and input to introduce data in our console "
   ]
  },
  {
   "cell_type": "code",
   "execution_count": 3,
   "metadata": {},
   "outputs": [
    {
     "name": "stdout",
     "output_type": "stream",
     "text": [
      "20\n"
     ]
    }
   ],
   "source": [
    "age1 = int(input())"
   ]
  },
  {
   "cell_type": "markdown",
   "metadata": {},
   "source": [
    "The first student has an age of 20 years old "
   ]
  },
  {
   "cell_type": "markdown",
   "metadata": {},
   "source": [
    "Now we do the same, but for the other 2 students required"
   ]
  },
  {
   "cell_type": "code",
   "execution_count": 6,
   "metadata": {},
   "outputs": [
    {
     "name": "stdout",
     "output_type": "stream",
     "text": [
      "What about you, Student 2?\n",
      "18\n",
      "And you, Student 3?\n",
      "19\n"
     ]
    }
   ],
   "source": [
    "print (\"What about you, Student 2?\")\n",
    "age2 = int(input())\n",
    "print (\"And you, Student 3?\")\n",
    "age3 = int(input())"
   ]
  },
  {
   "cell_type": "markdown",
   "metadata": {},
   "source": [
    "And now we have to calculate the sample mean, making an addition of the three ages and dividing between the number of data,that in this case is 3 and almacenate in a variable called sample_mean, then we make the operation"
   ]
  },
  {
   "cell_type": "code",
   "execution_count": 10,
   "metadata": {},
   "outputs": [
    {
     "name": "stdout",
     "output_type": "stream",
     "text": [
      "The sample mean of your ages is: 19.0\n"
     ]
    }
   ],
   "source": [
    "sample_mean = (age1 + age2+ age3)/3\n",
    "print(f\"The sample mean of your ages is: {sample_mean}\")"
   ]
  },
  {
   "cell_type": "markdown",
   "metadata": {},
   "source": [
    "Finally we print the sample mean with the command print(f\"Instruction{string}\") to obtain the final result "
   ]
  },
  {
   "cell_type": "code",
   "execution_count": null,
   "metadata": {},
   "outputs": [],
   "source": []
  }
 ],
 "metadata": {
  "kernelspec": {
   "display_name": "Python 3",
   "language": "python",
   "name": "python3"
  },
  "language_info": {
   "codemirror_mode": {
    "name": "ipython",
    "version": 3
   },
   "file_extension": ".py",
   "mimetype": "text/x-python",
   "name": "python",
   "nbconvert_exporter": "python",
   "pygments_lexer": "ipython3",
   "version": "3.7.3"
  }
 },
 "nbformat": 4,
 "nbformat_minor": 2
}
