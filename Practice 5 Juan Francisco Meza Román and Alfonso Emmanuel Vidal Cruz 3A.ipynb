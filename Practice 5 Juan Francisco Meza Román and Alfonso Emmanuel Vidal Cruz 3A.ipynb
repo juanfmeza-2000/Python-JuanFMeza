{
 "cells": [
  {
   "cell_type": "markdown",
   "metadata": {},
   "source": [
    "# Calculating Trimmed Mean \n"
   ]
  },
  {
   "cell_type": "markdown",
   "metadata": {},
   "source": [
    "## Made by: Juan Francisco Meza Román and Alfonso Emmanuel Vidal Cruz 3A\n"
   ]
  },
  {
   "cell_type": "markdown",
   "metadata": {},
   "source": [
    "With this program first we ask for numbers, the user indicates when it is going to finish the input of numbers, indicate with a 1 or a 0"
   ]
  },
  {
   "cell_type": "code",
   "execution_count": 1,
   "metadata": {},
   "outputs": [
    {
     "name": "stdout",
     "output_type": "stream",
     "text": [
      "Introduce a number:\n",
      "3\n",
      "Press 0 if you finish, press 1 if you want to continue: \n",
      "1\n",
      "Introduce a number:\n",
      "4\n",
      "Press 0 if you finish, press 1 if you want to continue: \n",
      "1\n",
      "Introduce a number:\n",
      "5\n",
      "Press 0 if you finish, press 1 if you want to continue: \n",
      "1\n",
      "Introduce a number:\n",
      "1\n",
      "Press 0 if you finish, press 1 if you want to continue: \n",
      "1\n",
      "Introduce a number:\n",
      "2\n",
      "Press 0 if you finish, press 1 if you want to continue: \n",
      "0\n"
     ]
    }
   ],
   "source": [
    "w = 1\n",
    "cont = 0\n",
    "xstring = []\n",
    "sum_x = 0\n",
    "while w > 0 :\n",
    "    print(\"Introduce a number:\")\n",
    "    x=int(input())\n",
    "    xstring.append(x)\n",
    "    cont = cont + 1\n",
    "    sum_x = sum_x + x \n",
    "            \n",
    "    print(\"Press 0 if you finish, press 1 if you want to continue: \")\n",
    "    y=int(input())\n",
    "    if y == 0:\n",
    "        w = 0 \n",
    "        if y == 1:\n",
    "            w=1\n"
   ]
  },
  {
   "cell_type": "markdown",
   "metadata": {},
   "source": [
    "Now, that the process have finished we ordered the values that we introduce that are necessary for trimmed mean"
   ]
  },
  {
   "cell_type": "code",
   "execution_count": 2,
   "metadata": {},
   "outputs": [
    {
     "name": "stdout",
     "output_type": "stream",
     "text": [
      "Your values ordered are:\n",
      "[1, 2, 3, 4, 5]\n"
     ]
    }
   ],
   "source": [
    "print(\"Your values ordered are:\")\n",
    "order = sorted(xstring)\n",
    "print(order)\n",
    "\n",
    "\n",
    "\n",
    "\n",
    "\n",
    "        "
   ]
  },
  {
   "cell_type": "markdown",
   "metadata": {},
   "source": [
    "Then, we introduce the percentage given, and the program will say the values that are going to be removed of the set of values in order to calculate trimmed mean"
   ]
  },
  {
   "cell_type": "code",
   "execution_count": 3,
   "metadata": {},
   "outputs": [
    {
     "name": "stdout",
     "output_type": "stream",
     "text": [
      "Introduce the percentage of the trimmed mean:\n",
      "20\n",
      "Values that are going to be removed are: 1\n"
     ]
    }
   ],
   "source": [
    "print(\"Introduce the percentage of the trimmed mean:\")\n",
    "p = int(input())\n",
    "pd= p/100\n",
    "nv = int(pd * cont)\n",
    "print(f\"Values that are going to be removed are: {nv}\")\n",
    "\n"
   ]
  },
  {
   "cell_type": "markdown",
   "metadata": {},
   "source": [
    "Now that values are going to be removed, we print a new list with the values of each side of the first list removed, so that list is the one that is gonna be used for calculate trimmed mean"
   ]
  },
  {
   "cell_type": "code",
   "execution_count": 4,
   "metadata": {},
   "outputs": [
    {
     "name": "stdout",
     "output_type": "stream",
     "text": [
      "Your new values ordered are:\n",
      "[2, 3, 4]\n"
     ]
    }
   ],
   "source": [
    "newcont = 0 \n",
    "sum_z = 0\n",
    "newstring = []\n",
    "for i in range (nv,cont-nv):\n",
    "    z = order[i]\n",
    "    newstring.append(z)\n",
    "    newcont = newcont + 1\n",
    "    sum_z = sum_z + z\n",
    "    \n",
    "print(\"Your new values ordered are:\")\n",
    "print(newstring)"
   ]
  },
  {
   "cell_type": "markdown",
   "metadata": {},
   "source": [
    "As we can see, we removed 1 value of each side that in this case the numbers that have been removed are: 1 and 5, finally we just calculate the mean of the remaining values of the list to obtain our trimmed mean"
   ]
  },
  {
   "cell_type": "code",
   "execution_count": 5,
   "metadata": {},
   "outputs": [
    {
     "name": "stdout",
     "output_type": "stream",
     "text": [
      "Your trimmed mean is: 3.0\n"
     ]
    }
   ],
   "source": [
    "trim_mean = sum_z/newcont\n",
    "print(f\"Your trimmed mean is: {trim_mean}\")"
   ]
  }
 ],
 "metadata": {
  "kernelspec": {
   "display_name": "Python 3",
   "language": "python",
   "name": "python3"
  },
  "language_info": {
   "codemirror_mode": {
    "name": "ipython",
    "version": 3
   },
   "file_extension": ".py",
   "mimetype": "text/x-python",
   "name": "python",
   "nbconvert_exporter": "python",
   "pygments_lexer": "ipython3",
   "version": "3.7.3"
  }
 },
 "nbformat": 4,
 "nbformat_minor": 2
}
