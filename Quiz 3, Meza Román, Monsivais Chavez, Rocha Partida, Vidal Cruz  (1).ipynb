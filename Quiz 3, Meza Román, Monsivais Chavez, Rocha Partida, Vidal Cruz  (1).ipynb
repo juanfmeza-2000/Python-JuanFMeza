{
 "cells": [
  {
   "cell_type": "code",
   "execution_count": null,
   "metadata": {},
   "outputs": [],
   "source": [
    "n = int(input(\"How many data is your set?\"))\n",
    "valx = []\n",
    "valy = []\n",
    "valxy = []\n",
    "sumx = 0 \n",
    "sumy = 0\n",
    "sumxy = 0 \n",
    "for i in range(0,n):\n",
    "    x = int(input(\"Introduce values of x:\"))\n",
    "    valx.append(x)\n",
    "    sumx += x \n",
    "  \n",
    " for i in range(0,n):\n",
    "    y = int(input(\"Introduce values of y:\"))\n",
    "    valy.append(y)\n",
    "    sumy += y\n",
    "    \n",
    "for i in range(0,n):\n",
    "    xy = (valx[i] * valy[i])\n",
    "    valxy.append(xy)\n",
    "    sumxy += xy \n",
    "    \n",
    "sumxsqrt = sumx ^ 2\n",
    "\n",
    "print(f\"\\nThe sumatorie of x is: = {sumx}\")\n",
    "print(f\"\\nThe sumatorie of y is: = {sumy}\")\n",
    "print(f\"\\nThe sumatorie of xy is: = {sumxy}\")\n",
    "print(f\"\\nThe sumatorie of xy is: = {sumxsqrt}\")\n",
    "\n",
    "print(f\"\\nb1 is equal to: = {b1}\")\n",
    " print(f\"\\nb0 is equal to: = {b0}\") \n",
    "     print(f\"\\nLinear regression is equal to: = {lr}\") \n",
    "        "
   ]
  }
 ],
 "metadata": {
  "kernelspec": {
   "display_name": "Python 3",
   "language": "python",
   "name": "python3"
  },
  "language_info": {
   "codemirror_mode": {
    "name": "ipython",
    "version": 3
   },
   "file_extension": ".py",
   "mimetype": "text/x-python",
   "name": "python",
   "nbconvert_exporter": "python",
   "pygments_lexer": "ipython3",
   "version": "3.7.3"
  }
 },
 "nbformat": 4,
 "nbformat_minor": 2
}
