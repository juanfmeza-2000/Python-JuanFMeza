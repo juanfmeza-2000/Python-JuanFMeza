{
 "cells": [
  {
   "cell_type": "markdown",
   "metadata": {},
   "source": [
    "# Sample Mean, Standard Deviation and Mode"
   ]
  },
  {
   "cell_type": "markdown",
   "metadata": {},
   "source": [
    "## Made by: Juan Francisco Meza Román and Alfonso Emmanuel Vidal Cruz "
   ]
  },
  {
   "cell_type": "markdown",
   "metadata": {},
   "source": [
    "In this program, we ask for numbers that you want and, with that select an option that calculates sample mean, standard deviation or mode according to the number that you introduce"
   ]
  },
  {
   "cell_type": "code",
   "execution_count": 8,
   "metadata": {},
   "outputs": [
    {
     "name": "stdout",
     "output_type": "stream",
     "text": [
      "Introduce a number:\n",
      "Introduce 0 when you finish\n",
      "4\n",
      "Introduce a number:\n",
      "Introduce 0 when you finish\n",
      "7\n",
      "Introduce a number:\n",
      "Introduce 0 when you finish\n",
      "8\n",
      "Introduce a number:\n",
      "Introduce 0 when you finish\n",
      "19\n",
      "Introduce a number:\n",
      "Introduce 0 when you finish\n",
      "10\n",
      "Introduce a number:\n",
      "Introduce 0 when you finish\n",
      "10\n",
      "Introduce a number:\n",
      "Introduce 0 when you finish\n",
      "10\n",
      "Introduce a number:\n",
      "Introduce 0 when you finish\n",
      "0\n",
      "Select the operation to realize: 1.- sample mean. 2.- mode 3.- standard deviation\n",
      "2\n",
      "Your mode is [10]\n"
     ]
    }
   ],
   "source": [
    "x = 1\n",
    "cont = 0\n",
    "xstring = []\n",
    "sd = 0\n",
    "variable1 = 0\n",
    "variable2 = 0\n",
    "sum_x = 0\n",
    "while x > 0 :\n",
    "    print(\"Introduce a number:\")\n",
    "    print(\"Introduce 0 when you finish\")\n",
    "    x=int(input())\n",
    "    xstring.append(x)\n",
    "    cont = cont + 1\n",
    "    sum_x = sum_x + x \n",
    "    \n",
    "print(\"Select the operation to realize: 1.- sample mean. 2.- mode 3.- standard deviation\")\n",
    "operation = int(input())\n",
    "sample_mean = (sum_x)/(cont-1)\n",
    "        \n",
    "if operation == 1 :\n",
    "   \n",
    "    print(f\"Your sample mean is: {sample_mean}\")\n",
    "if operation == 2 :\n",
    "    for i in xstring :\n",
    "        variable1 = xstring.count(i)\n",
    "        if variable1 > variable2 :\n",
    "            variable2 = variable1\n",
    "mode = []\n",
    "for i in xstring :\n",
    "    variable1 = xstring.count(i)\n",
    "    if variable1 == variable2 and i not in mode :\n",
    "        mode.append(i)\n",
    "if len(mode)!=len(xstring) : \n",
    "    print(f\"Your mode is {mode}\")\n",
    "else : \n",
    "    print(\"NO mode \")\n",
    "if operation == 3 :\n",
    "    \n",
    "    for i in range (0,cont-1): \n",
    "        si = (((xstring[i])-(sample_mean)))/(cont-2)\n",
    "        sd=sd+si \n",
    "       \n",
    "    print(f\"Your standard deviation is:{sd}\")\n",
    "\n"
   ]
  },
  {
   "cell_type": "code",
   "execution_count": null,
   "metadata": {},
   "outputs": [],
   "source": []
  }
 ],
 "metadata": {
  "kernelspec": {
   "display_name": "Python 3",
   "language": "python",
   "name": "python3"
  },
  "language_info": {
   "codemirror_mode": {
    "name": "ipython",
    "version": 3
   },
   "file_extension": ".py",
   "mimetype": "text/x-python",
   "name": "python",
   "nbconvert_exporter": "python",
   "pygments_lexer": "ipython3",
   "version": "3.7.3"
  }
 },
 "nbformat": 4,
 "nbformat_minor": 2
}
