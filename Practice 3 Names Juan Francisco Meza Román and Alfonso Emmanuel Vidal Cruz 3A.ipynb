{
 "cells": [
  {
   "cell_type": "markdown",
   "metadata": {},
   "source": [
    "## Select a name through introducing a number"
   ]
  },
  {
   "cell_type": "markdown",
   "metadata": {},
   "source": [
    "### Made by Juan Francisco Meza Román and Alfonso Emmanuel Vidal Cruz"
   ]
  },
  {
   "cell_type": "markdown",
   "metadata": {},
   "source": [
    "First, we ask the quantity of students that we are going to introduce, so we made a string calling names. and we introduce a number wit\n"
   ]
  },
  {
   "cell_type": "code",
   "execution_count": 1,
   "metadata": {},
   "outputs": [
    {
     "name": "stdout",
     "output_type": "stream",
     "text": [
      "How many names do you want to print?3\n"
     ]
    }
   ],
   "source": [
    "values = int(input(\"How many names do you want to print?\"))\n",
    "names = []"
   ]
  },
  {
   "cell_type": "markdown",
   "metadata": {},
   "source": [
    "Now with function for and range the console is going to ask for the names until it reaches the number that we introduced and it will almacenate them in the string of names "
   ]
  },
  {
   "cell_type": "code",
   "execution_count": 2,
   "metadata": {},
   "outputs": [
    {
     "name": "stdout",
     "output_type": "stream",
     "text": [
      "Introduce name:Pako \n",
      "Introduce name:Juanpy\n",
      "Introduce name:Lorena\n"
     ]
    }
   ],
   "source": [
    "for i in range(0,values):\n",
    "    x = (input(\"Introduce name:\"))\n",
    "    names.append(x)\n",
    "\n",
    "\n"
   ]
  },
  {
   "cell_type": "markdown",
   "metadata": {},
   "source": [
    "Now, that the three names are introduced, it will going to print the names in form of list with the following code"
   ]
  },
  {
   "cell_type": "code",
   "execution_count": 9,
   "metadata": {},
   "outputs": [
    {
     "name": "stdout",
     "output_type": "stream",
     "text": [
      "List of names introduced:\n",
      "Pako \n",
      "Juanpy\n",
      "Lorena\n"
     ]
    }
   ],
   "source": [
    "print(\"List of names introduced:\")\n",
    "for name in names:\n",
    "    print(name)"
   ]
  },
  {
   "cell_type": "markdown",
   "metadata": {},
   "source": [
    "Finally the console asks us for a number that corresponds to our list of names, beginning with the number 0, that occurs taking the number introduced of the string names, that we made before, and finally it will print the name that correspond to the number, in this case 1"
   ]
  },
  {
   "cell_type": "code",
   "execution_count": 5,
   "metadata": {},
   "outputs": [
    {
     "name": "stdout",
     "output_type": "stream",
     "text": [
      "Introduce a number which corrsepond to one student:\n",
      "1\n",
      "Juanpy\n"
     ]
    }
   ],
   "source": [
    "print(\"Introduce a number which corrsepond to one student:\")\n",
    "print(names[int(input())])"
   ]
  }
 ],
 "metadata": {
  "kernelspec": {
   "display_name": "Python 3",
   "language": "python",
   "name": "python3"
  },
  "language_info": {
   "codemirror_mode": {
    "name": "ipython",
    "version": 3
   },
   "file_extension": ".py",
   "mimetype": "text/x-python",
   "name": "python",
   "nbconvert_exporter": "python",
   "pygments_lexer": "ipython3",
   "version": "3.7.3"
  }
 },
 "nbformat": 4,
 "nbformat_minor": 2
}
