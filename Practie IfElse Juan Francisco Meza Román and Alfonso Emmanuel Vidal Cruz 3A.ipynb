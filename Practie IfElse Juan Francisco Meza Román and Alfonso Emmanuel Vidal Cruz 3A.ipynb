{
 "cells": [
  {
   "cell_type": "markdown",
   "metadata": {},
   "source": [
    "## Dialog with If-Else Condition "
   ]
  },
  {
   "cell_type": "markdown",
   "metadata": {},
   "source": [
    "### By Juan Francisco Meza Román and Alfonso Emmanuel Vidal Cruz"
   ]
  },
  {
   "cell_type": "markdown",
   "metadata": {},
   "source": [
    "This code is about a dialog evaluating options with different outputs, with the option of if and else, that is when a condition is not true, the program run the else option, printing something, if is evaluated with inputs that we put before"
   ]
  },
  {
   "cell_type": "code",
   "execution_count": 1,
   "metadata": {},
   "outputs": [
    {
     "name": "stdout",
     "output_type": "stream",
     "text": [
      "Hellow, Robert. Did you call Simon? please, answer yes or no.\n",
      "Yes\n",
      "You are always forgetting what I say you, please, call him as sooner you can\n",
      "Do you know his phone number? yes or no?\n",
      "No\n",
      "Well, here it is : 831582201\n"
     ]
    }
   ],
   "source": [
    "print (\"Hellow, Robert. Did you call Simon? please, answer yes or no.\") #1\n",
    "a = input ()\n",
    "if a == \"yes\" : \n",
    "    print (\"Excelent.\")\n",
    "else : \n",
    "    print (\"You are always forgetting what I say you, please, call him as sooner you can\") \n",
    "    print (\"Do you know his phone number? yes or no?\")#2\n",
    "    phone_num = input ()\n",
    "    if phone_num == \"yes\" :\n",
    "        print(\"Ok, do the call, please\")\n",
    "    else :\n",
    "        print (\"Well, here it is : 831582201\")\n"
   ]
  },
  {
   "cell_type": "markdown",
   "metadata": {},
   "source": [
    "And now we continue evaluating inputs, to put an equal here in Python we have to put double equals "
   ]
  },
  {
   "cell_type": "code",
   "execution_count": 2,
   "metadata": {},
   "outputs": [
    {
     "name": "stdout",
     "output_type": "stream",
     "text": [
      "By the way, Charly brought back your hat, the red one, do you need me to wash it? yes or no?\n",
      "No\n",
      "Thanks God, I do not really want to wash it\n",
      "Do you prefer pizza or boneless for dinner?\n",
      "Boneless\n",
      "Pizza is more expensive, we will need more money. Anyways, salami or four cheeses?\n",
      "Salami\n",
      "People do stranger things\n",
      "Oh, by the way, the graduation of Sophie is this Saturday. I need you to choose a color for my dress: white or black?\n",
      "Black\n",
      "Perfect, I love it\n",
      "Do you already have your suit?\n",
      "No\n",
      "You have to rent it\n",
      "Do you think it is a good idea to rent a limo?\n",
      "No\n",
      "Well, I suppose that it could be the next time\n",
      "Will you give her a gift?\n",
      "Yes\n",
      "Well, I will try to buy something to her.\n",
      "Is this exercise right?\n",
      "Yes\n",
      "Well, excuse us, we tried to do our best\n"
     ]
    }
   ],
   "source": [
    "print (\"By the way, Charly brought back your hat, the red one, do you need me to wash it? yes or no?\")#3\n",
    "wash = input ()\n",
    "if wash == \"yes\" :\n",
    "    print (\"Ok, bring me enough soap, please.\")\n",
    "else :\n",
    "    print (\"Thanks God, I do not really want to wash it\")\n",
    "print (\"Do you prefer pizza or boneless for dinner?\")#4\n",
    "dinner = input()\n",
    "if dinner == \"boneless\" :\n",
    "    print (\"bbq or buffalo?\")#5\n",
    "    sauce = input()\n",
    "    if sauce == \"bbq\" :\n",
    "        print (\"That is not a good choice, but i will order it\")\n",
    "    else :\n",
    "        print(\"I was waiting to hear that\")\n",
    "else :\n",
    "    print(\"Pizza is more expensive, we will need more money. Anyways, salami or four cheeses?\")#6\n",
    "    pizza = input ()\n",
    "    if pizza == \"salami\" :\n",
    "        print(\"My favorite!!\")\n",
    "    else :\n",
    "        print (\"People do stranger things\")\n",
    "print (\"Oh, by the way, the graduation of Sophie is this Saturday. I need you to choose a color for my dress: white or black?\") #7\n",
    "dress_color = input()\n",
    "if dress_color == \"white\" :\n",
    "    print(\"I do not really like it\")\n",
    "else :\n",
    "    print (\"Perfect, I love it\")\n",
    "print (\"Do you already have your suit?\") #8\n",
    "suit = input()\n",
    "if suit == \"yes\" :\n",
    "    print(\"Wow, what a responsable man\")\n",
    "else :\n",
    "    print(\"You have to rent it\")\n",
    "print(\"Do you think it is a good idea to rent a limo?\") #8\n",
    "limo = input ()\n",
    "if limo == \"yes\" :\n",
    "    print (\"Fantastic!, I will ask for the cost of the rent and I will let you know\")\n",
    "else :\n",
    "        print(\"Well, I suppose that it could be the next time\")\n",
    "print(\"Will you give her a gift?\") #9\n",
    "gift = input()\n",
    "if gift == \"yes\" :\n",
    "    print(\"Is it a ring?\") #10\n",
    "    ring = input ()\n",
    "    if ring == \"yes\" :\n",
    "        print (\"Aw, I still have my ring of graduation\")\n",
    "    else : \n",
    "        print (\"Oh, I supposed that because it is the most common gift in this events\")\n",
    "else :\n",
    "    print (\"Well, I will try to buy something to her.\")\n",
    "print(\"Is this exercise right?\") #11\n",
    "evaluation = input ()\n",
    "if evaluation == \"yes\" :\n",
    "    print(\"We are glad to hear that! Thk u!\")\n",
    "else:\n",
    "    print(\"Well, excuse us, we tried to do our best\")"
   ]
  },
  {
   "cell_type": "markdown",
   "metadata": {},
   "source": [
    "For the coding in each dialog we evaluate options so the program will print the option that we chose"
   ]
  },
  {
   "cell_type": "code",
   "execution_count": 4,
   "metadata": {},
   "outputs": [
    {
     "name": "stdout",
     "output_type": "stream",
     "text": [
      "In scale from 0 to 10, what is our grade?\n",
      "-10\n",
      "Okey, that is not in the scale, so are we outliers(?\n"
     ]
    }
   ],
   "source": [
    "print(\"In scale from 0 to 10, what is our grade?\") #12\n",
    "grade = int(input())\n",
    "if grade < 8 and grade >0:\n",
    "    print(\":(\")\n",
    "elif grade >= 8 and grade <=10 :\n",
    "    print (\":D\")\n",
    "else:\n",
    "    print(\"Okey, that is not in the scale, so are we outliers(?\")"
   ]
  },
  {
   "cell_type": "markdown",
   "metadata": {},
   "source": [
    "Also with the option elif, you can evaluate the next condition when if is not correct, if else evaluates at the same time, but with elif you can have another option to evaluate, and, or are the other functions to indicate for example in and when the two actions need to happen, so the condition will be true, and or can be one of the two alternatives"
   ]
  },
  {
   "cell_type": "code",
   "execution_count": null,
   "metadata": {},
   "outputs": [],
   "source": []
  }
 ],
 "metadata": {
  "kernelspec": {
   "display_name": "Python 3",
   "language": "python",
   "name": "python3"
  },
  "language_info": {
   "codemirror_mode": {
    "name": "ipython",
    "version": 3
   },
   "file_extension": ".py",
   "mimetype": "text/x-python",
   "name": "python",
   "nbconvert_exporter": "python",
   "pygments_lexer": "ipython3",
   "version": "3.7.3"
  }
 },
 "nbformat": 4,
 "nbformat_minor": 2
}
